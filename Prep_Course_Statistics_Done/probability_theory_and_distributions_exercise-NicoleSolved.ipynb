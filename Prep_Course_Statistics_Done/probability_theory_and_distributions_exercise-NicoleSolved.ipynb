{
 "cells": [
  {
   "cell_type": "code",
   "execution_count": 3,
   "metadata": {
    "ExecuteTime": {
     "end_time": "2020-02-05T17:54:42.062131Z",
     "start_time": "2020-02-05T17:54:41.626763Z"
    }
   },
   "outputs": [],
   "source": [
    "# import numpy\n",
    "import numpy as np\n",
    "\n",
    "# import matplotlib.pyplot\n",
    "import matplotlib.pyplot as plt\n",
    "\n",
    "# import Counter\n",
    "from collections import Counter\n",
    "\n",
    "# use style 'fivethirtyeight' (optional)\n",
    "plt.style.use('fivethirtyeight')"
   ]
  },
  {
   "cell_type": "markdown",
   "metadata": {
    "ExecuteTime": {
     "end_time": "2020-02-05T17:54:42.113199Z",
     "start_time": "2020-02-05T17:54:42.101587Z"
    }
   },
   "source": [
    "#### Create function `perform_bernoulli_trial` with parameters n and p\n",
    "\n",
    "PARAMS:\n",
    "- n (int) - number of trials\n",
    "- p (float) - probability of success\n",
    "\n",
    "RETURNS:\n",
    "- n_success (int) - number of successes\n",
    "\n"
   ]
  },
  {
   "cell_type": "code",
   "execution_count": 4,
   "metadata": {},
   "outputs": [],
   "source": [
    "# https://towardsdatascience.com/understanding-bernoulli-and-binomial-distributions-a1eef4e0da8f\n",
    "# bernoulli probability mass function:\n",
    "# x = n\n",
    "def perform_bernoulli_trial(n,p):\n",
    "    n_success = int(n * p * np.random.random())\n",
    "    return n_success"
   ]
  },
  {
   "cell_type": "code",
   "execution_count": null,
   "metadata": {},
   "outputs": [],
   "source": []
  },
  {
   "cell_type": "markdown",
   "metadata": {
    "ExecuteTime": {
     "end_time": "2020-02-05T17:54:42.610756Z",
     "start_time": "2020-02-05T17:54:42.602316Z"
    }
   },
   "source": [
    "#### Use function `perform_bernoulli_trial` with inputs n = 100, p = 0.5"
   ]
  },
  {
   "cell_type": "code",
   "execution_count": 5,
   "metadata": {},
   "outputs": [
    {
     "data": {
      "text/plain": [
       "48"
      ]
     },
     "execution_count": 5,
     "metadata": {},
     "output_type": "execute_result"
    }
   ],
   "source": [
    "n, p = 100, 0.5\n",
    "perform_bernoulli_trial(n,p)"
   ]
  },
  {
   "cell_type": "code",
   "execution_count": null,
   "metadata": {},
   "outputs": [],
   "source": []
  },
  {
   "cell_type": "markdown",
   "metadata": {
    "ExecuteTime": {
     "end_time": "2020-02-05T17:54:43.020097Z",
     "start_time": "2020-02-05T17:54:42.962800Z"
    }
   },
   "source": [
    "#### Call function _perform_bernoulli_trial_ 1000-times with same parameters as before and store the result in `successes_list`"
   ]
  },
  {
   "cell_type": "code",
   "execution_count": 6,
   "metadata": {},
   "outputs": [
    {
     "data": {
      "text/plain": [
       "array([35,  2, 28, 16, 36, 19, 24,  0,  6,  0, 27, 21, 26, 10, 47, 15, 20,\n",
       "        4, 30, 33, 16, 12,  5, 10,  5, 26, 38, 40,  4,  3,  7, 31, 17, 35,\n",
       "       39,  6, 47, 26, 31, 38,  5, 14, 28, 36, 34,  1, 25, 20, 27, 46,  7,\n",
       "       26, 12,  6, 34, 49, 22, 25, 31,  5,  3, 25,  9,  8, 39, 29, 28, 25,\n",
       "       25, 24, 19, 17, 26,  3, 41,  3, 27, 43,  6, 18, 49, 40, 36, 34, 42,\n",
       "       14,  5, 18, 46,  8, 39,  7, 32, 40, 41, 31,  4, 11, 30, 35, 14, 35,\n",
       "       40, 28, 48, 40, 37, 31, 39,  8, 44, 41,  7, 32,  3, 13, 43,  7, 43,\n",
       "        0, 24,  4, 23,  8,  3, 25, 34, 20, 32, 20,  5, 24, 11, 43, 28, 40,\n",
       "       12, 15,  1, 37, 23, 12, 47, 24, 22, 16, 35, 23, 33, 10, 11,  6,  3,\n",
       "       28, 32, 37, 47, 16, 47, 36, 35, 30,  2, 29, 38, 34, 20, 44, 26, 35,\n",
       "       28, 48, 45, 24, 48,  1, 45, 44,  7, 42, 42, 11, 48, 34, 24, 41, 35,\n",
       "        2,  9, 28, 46, 46, 15, 47, 37, 19,  9, 10,  0, 18, 22, 29,  7, 13,\n",
       "       31, 13, 31,  4, 27, 49, 49, 26, 40, 21, 29, 36, 47, 21, 34, 39, 15,\n",
       "       43,  1, 42, 46, 39, 44, 14,  3, 37, 31, 46, 40, 24, 37,  8,  8,  5,\n",
       "        4, 18, 49, 20, 15, 36, 45, 26, 11, 35, 35, 34, 40,  7, 48,  4, 11,\n",
       "        7, 25, 47, 41, 25,  6, 17, 27, 34, 22, 36, 32, 26, 36, 13, 27, 33,\n",
       "        0,  7, 11,  9, 24, 46, 37, 44, 38, 26, 29, 26, 40,  7, 14, 26,  6,\n",
       "        6, 48,  6, 38, 24, 43,  7,  3, 48, 39, 39,  8, 20,  9, 11, 41, 32,\n",
       "       18, 29, 22, 33, 27,  0, 26,  9, 44, 22, 19, 32,  1, 15, 13, 35, 23,\n",
       "       33, 34, 38, 30, 33,  3,  9,  2, 10, 17, 20, 27, 45, 21, 11, 43, 30,\n",
       "       47,  5, 14,  7,  3, 37, 37, 19, 12, 28, 45, 21, 26, 33, 26, 23, 29,\n",
       "        2, 43, 43, 13, 31, 25, 19, 26, 48, 31, 36, 47, 47, 30, 29,  5, 18,\n",
       "       20, 23,  4,  0,  8, 17, 46,  1, 27, 28, 38, 14, 11,  4, 20, 15, 47,\n",
       "       12, 31, 10,  8, 36,  8, 16, 22, 45, 29, 39,  3,  8, 40, 36, 16, 37,\n",
       "       43, 37,  2, 15, 10, 14, 44, 38, 33, 46, 17, 29, 49, 23, 28, 29, 27,\n",
       "        4,  6, 17,  0, 44,  8, 46,  1, 11, 36, 28,  9, 31, 15,  7, 20,  7,\n",
       "       14, 20, 15, 18, 36, 42,  8, 11, 40, 29, 30, 24, 20, 46,  4, 22, 37,\n",
       "       33, 28, 18, 43, 38, 35, 32, 23, 20, 26, 16,  6, 41, 10, 25, 44, 45,\n",
       "        4, 19,  0, 27, 32, 12,  8, 20, 35,  3, 46, 45, 36, 27, 23, 13, 26,\n",
       "       10, 16, 38, 22, 35, 10,  3, 38, 22, 41, 11, 20, 46, 19, 24, 41, 39,\n",
       "       15, 41, 16,  9, 34, 11, 12, 24,  5, 42,  8, 31, 16,  2, 25, 19,  6,\n",
       "       36, 32, 35, 28, 20, 34,  9, 13, 48,  2, 44, 38, 47, 44, 23, 40, 32,\n",
       "       25,  7, 29, 38, 38, 47,  7, 12, 47, 36, 14, 39, 27, 21,  8,  4,  1,\n",
       "       45, 28, 15,  4, 15, 25, 34, 33,  3, 47, 31, 42, 12,  3, 27, 19,  3,\n",
       "       22, 35, 26, 12, 38, 27, 44, 33, 31,  8, 38, 10, 47, 30, 27, 17, 27,\n",
       "       49, 42, 13,  3, 34, 37, 48,  5,  9, 47, 40, 31,  2, 22, 12,  1, 12,\n",
       "       40, 14, 25, 37,  5, 11,  5, 30, 39, 42,  9, 28,  5, 30, 49,  5, 46,\n",
       "       11, 24, 12, 28, 42, 27, 37, 35, 43, 12, 32, 47, 41, 16, 13, 48, 14,\n",
       "       20, 37, 40,  8, 20, 22, 31,  2,  2,  3,  5, 26, 32, 23, 33, 37, 22,\n",
       "       39, 10,  7, 30, 49, 46, 46, 12, 14, 48, 11, 16, 48,  8, 23, 48, 24,\n",
       "       13,  7, 23, 22, 25, 11, 49, 29, 14, 24, 35, 42, 16,  8, 28, 39, 35,\n",
       "        9,  8, 13, 41, 33, 44, 20, 20, 48, 11, 31, 14, 10, 42, 21, 24, 36,\n",
       "       49,  5, 21, 21, 14, 27, 19, 36, 31, 22, 17,  8, 15, 27, 23, 46, 13,\n",
       "       24, 25, 47, 21, 19,  9, 14, 39, 42, 21,  5, 40, 43,  5, 41, 32, 40,\n",
       "        5, 22, 11, 27, 13, 22, 26, 21, 34, 32, 43, 22, 42, 11, 48, 25, 22,\n",
       "       10, 43, 36, 38, 39, 10, 48, 28, 32, 18,  3,  3, 44, 38,  9,  3, 35,\n",
       "       19, 39, 33,  8, 46, 49, 15,  4,  1, 13, 20, 40, 19, 39, 15, 16, 17,\n",
       "       23, 21, 40, 19, 27, 10, 36, 26, 42, 31, 30, 22,  2,  0, 47, 36, 16,\n",
       "       15, 35, 35, 24, 11, 45,  0, 39, 19,  4, 48,  5, 12, 20, 16, 40, 27,\n",
       "       40, 29, 12, 24, 32, 24, 46,  7, 28, 31,  1, 16, 30, 10, 13, 27, 47,\n",
       "       40, 18,  2, 49, 20, 15,  3, 22, 11, 31, 37, 14, 26, 33,  9,  7, 49,\n",
       "       31, 15, 42, 13, 15, 48,  3, 32, 48, 26,  7, 23, 31, 35, 15, 42,  2,\n",
       "       33, 12, 23,  6, 33, 47,  6, 40, 24,  9, 47,  2, 40, 42, 28, 27,  7,\n",
       "       16, 29,  8, 35, 18, 39,  7, 22, 49, 46, 34, 43, 12, 16, 21, 39, 49,\n",
       "       37,  6, 16, 10,  5, 43, 31, 34, 10, 42, 16, 46, 16, 24, 33, 38, 40,\n",
       "       17, 12, 41, 37, 18, 31,  8, 42, 32, 28, 45, 36, 24, 26, 10, 36, 46,\n",
       "       39, 44, 45, 39, 38, 30,  4, 31, 44, 31, 15, 18, 22, 30, 46, 35,  7,\n",
       "       26,  4,  4, 36, 26, 43, 26, 35, 40, 17,  2,  8, 29, 15, 34, 47, 48,\n",
       "       32, 46, 34,  6, 21,  3, 29, 48, 38,  9, 22, 36, 48, 27])"
      ]
     },
     "execution_count": 6,
     "metadata": {},
     "output_type": "execute_result"
    }
   ],
   "source": [
    "size = 1000\n",
    "successes_list = []\n",
    "\n",
    "for i in range(size):\n",
    "    successes_list.append(perform_bernoulli_trial(n,p))\n",
    "    \n",
    "successes_list = np.array(successes_list)\n",
    "successes_list"
   ]
  },
  {
   "cell_type": "code",
   "execution_count": null,
   "metadata": {},
   "outputs": [],
   "source": []
  },
  {
   "cell_type": "markdown",
   "metadata": {
    "ExecuteTime": {
     "end_time": "2020-02-05T17:54:43.296477Z",
     "start_time": "2020-02-05T17:54:43.289959Z"
    }
   },
   "source": [
    "#### Count occurence of each number from `successes_list` using Counter and store the result in `count_occurence`\n",
    "\n",
    "You can find for more info about Counter [**here**](https://docs.python.org/2/library/collections.html#collections.Counter)."
   ]
  },
  {
   "cell_type": "code",
   "execution_count": 7,
   "metadata": {},
   "outputs": [
    {
     "data": {
      "text/plain": [
       "Counter({35: 26,\n",
       "         2: 16,\n",
       "         28: 22,\n",
       "         16: 22,\n",
       "         36: 25,\n",
       "         19: 16,\n",
       "         24: 24,\n",
       "         0: 11,\n",
       "         6: 16,\n",
       "         27: 26,\n",
       "         21: 15,\n",
       "         26: 28,\n",
       "         10: 20,\n",
       "         47: 25,\n",
       "         15: 23,\n",
       "         20: 24,\n",
       "         4: 19,\n",
       "         30: 15,\n",
       "         33: 18,\n",
       "         12: 21,\n",
       "         5: 22,\n",
       "         38: 21,\n",
       "         40: 27,\n",
       "         3: 25,\n",
       "         7: 25,\n",
       "         31: 28,\n",
       "         17: 12,\n",
       "         39: 23,\n",
       "         14: 18,\n",
       "         34: 19,\n",
       "         1: 11,\n",
       "         25: 17,\n",
       "         46: 24,\n",
       "         49: 16,\n",
       "         22: 25,\n",
       "         9: 18,\n",
       "         8: 26,\n",
       "         29: 18,\n",
       "         41: 14,\n",
       "         43: 18,\n",
       "         18: 13,\n",
       "         42: 20,\n",
       "         32: 20,\n",
       "         11: 23,\n",
       "         48: 23,\n",
       "         37: 20,\n",
       "         44: 16,\n",
       "         13: 17,\n",
       "         23: 17,\n",
       "         45: 12})"
      ]
     },
     "execution_count": 7,
     "metadata": {},
     "output_type": "execute_result"
    }
   ],
   "source": [
    "# count the occurrence of each number\n",
    "count_occurence = Counter(successes_list)\n",
    "count_occurence"
   ]
  },
  {
   "cell_type": "code",
   "execution_count": null,
   "metadata": {},
   "outputs": [],
   "source": []
  },
  {
   "cell_type": "markdown",
   "metadata": {
    "ExecuteTime": {
     "end_time": "2020-02-05T17:54:43.571225Z",
     "start_time": "2020-02-05T17:54:43.568147Z"
    }
   },
   "source": [
    "#### Count the probability for each number from `count_occurence` and store the result in `probas`\n"
   ]
  },
  {
   "cell_type": "code",
   "execution_count": 8,
   "metadata": {},
   "outputs": [
    {
     "data": {
      "text/plain": [
       "[0.026,\n",
       " 0.016,\n",
       " 0.022,\n",
       " 0.022,\n",
       " 0.025,\n",
       " 0.016,\n",
       " 0.024,\n",
       " 0.011,\n",
       " 0.016,\n",
       " 0.026,\n",
       " 0.015,\n",
       " 0.028,\n",
       " 0.02,\n",
       " 0.025,\n",
       " 0.023,\n",
       " 0.024,\n",
       " 0.019,\n",
       " 0.015,\n",
       " 0.018,\n",
       " 0.021,\n",
       " 0.022,\n",
       " 0.021,\n",
       " 0.027,\n",
       " 0.025,\n",
       " 0.025,\n",
       " 0.028,\n",
       " 0.012,\n",
       " 0.023,\n",
       " 0.018,\n",
       " 0.019,\n",
       " 0.011,\n",
       " 0.017,\n",
       " 0.024,\n",
       " 0.016,\n",
       " 0.025,\n",
       " 0.018,\n",
       " 0.026,\n",
       " 0.018,\n",
       " 0.014,\n",
       " 0.018,\n",
       " 0.013,\n",
       " 0.02,\n",
       " 0.02,\n",
       " 0.023,\n",
       " 0.023,\n",
       " 0.02,\n",
       " 0.016,\n",
       " 0.017,\n",
       " 0.017,\n",
       " 0.012]"
      ]
     },
     "execution_count": 8,
     "metadata": {},
     "output_type": "execute_result"
    }
   ],
   "source": [
    "# calculate the probabilities as the number of occurrences / size\n",
    "probas = [val/size for val in count_occurence.values()]\n",
    "probas"
   ]
  },
  {
   "cell_type": "code",
   "execution_count": null,
   "metadata": {},
   "outputs": [],
   "source": []
  },
  {
   "cell_type": "markdown",
   "metadata": {},
   "source": [
    "Below you have some information about how to do plots in Python. We will be covering all of this during the bootcamp. But you can find these basics here so we can visualize the distributions."
   ]
  },
  {
   "cell_type": "code",
   "execution_count": 9,
   "metadata": {
    "ExecuteTime": {
     "end_time": "2020-02-05T17:54:44.056628Z",
     "start_time": "2020-02-05T17:54:43.850076Z"
    }
   },
   "outputs": [
    {
     "data": {
      "image/png": "[encoded data removed]",
      "text/plain": [
       "<Figure size 432x288 with 1 Axes>"
      ]
     },
     "metadata": {},
     "output_type": "display_data"
    }
   ],
   "source": [
    "# plot distribution (PMF) of 'succes_list'\n",
    "plt.scatter(x=count_occurence.keys(), y=probas)\n",
    "plt.xlabel('number of succeess out of 100')\n",
    "plt.ylabel('probability')\n",
    "# Show the plot\n",
    "plt.show()"
   ]
  },
  {
   "cell_type": "markdown",
   "metadata": {
    "ExecuteTime": {
     "end_time": "2020-02-05T17:54:44.112264Z",
     "start_time": "2020-02-05T17:54:44.096570Z"
    }
   },
   "source": [
    "#### Generate 100000 numbers from uniform distribution with parameters a = 1, b = 6\n"
   ]
  },
  {
   "cell_type": "code",
   "execution_count": 12,
   "metadata": {},
   "outputs": [],
   "source": [
    "# uniform([low, high, size])\n",
    "a, b = 1, 6\n",
    "size = 100000\n",
    "uniform = np.random.uniform(a, b, size)"
   ]
  },
  {
   "cell_type": "code",
   "execution_count": null,
   "metadata": {},
   "outputs": [],
   "source": []
  },
  {
   "cell_type": "code",
   "execution_count": 13,
   "metadata": {
    "ExecuteTime": {
     "end_time": "2020-02-05T17:54:44.515039Z",
     "start_time": "2020-02-05T17:54:44.330746Z"
    },
    "tags": []
   },
   "outputs": [
    {
     "data": {
      "image/png": "[encoded data removed]",
      "text/plain": [
       "<Figure size 432x288 with 1 Axes>"
      ]
     },
     "metadata": {},
     "output_type": "display_data"
    }
   ],
   "source": [
    "# plot histogram of uniform distribution with paramsdensity=True, bins=6\n",
    "plt.hist(uniform, density=True, bins=6)\n",
    "plt.ylabel('density')\n",
    "plt.xlabel('value')\n",
    "plt.show()"
   ]
  },
  {
   "cell_type": "markdown",
   "metadata": {
    "ExecuteTime": {
     "end_time": "2020-02-05T17:54:44.583762Z",
     "start_time": "2020-02-05T17:54:44.555162Z"
    }
   },
   "source": [
    "#### Check the mean of uniform data (using NumPy)"
   ]
  },
  {
   "cell_type": "code",
   "execution_count": 14,
   "metadata": {},
   "outputs": [],
   "source": [
    "mean_uniform = np.mean(uniform)"
   ]
  },
  {
   "cell_type": "code",
   "execution_count": 15,
   "metadata": {},
   "outputs": [
    {
     "data": {
      "text/plain": [
       "3.5042688155523063"
      ]
     },
     "execution_count": 15,
     "metadata": {},
     "output_type": "execute_result"
    }
   ],
   "source": [
    "mean_uniform"
   ]
  },
  {
   "cell_type": "markdown",
   "metadata": {
    "ExecuteTime": {
     "end_time": "2020-02-05T17:54:44.758510Z",
     "start_time": "2020-02-05T17:54:44.752087Z"
    }
   },
   "source": [
    "#### Generate 100000 numbers from exponential distribution with parameter beta = 0.5\n",
    "\n",
    "The exponential distribution is sometimes parametrized in terms of the scale parameter **β = 1/λ**. We were reading about the **λ** in the previous reading."
   ]
  },
  {
   "cell_type": "code",
   "execution_count": 16,
   "metadata": {},
   "outputs": [],
   "source": [
    "# exponential([scale, size])\n",
    "beta = 0.5\n",
    "size = 100000\n",
    "exponential = np.random.exponential(beta, size)"
   ]
  },
  {
   "cell_type": "code",
   "execution_count": null,
   "metadata": {},
   "outputs": [],
   "source": []
  },
  {
   "cell_type": "markdown",
   "metadata": {
    "ExecuteTime": {
     "end_time": "2020-02-05T17:54:45.134091Z",
     "start_time": "2020-02-05T17:54:44.956351Z"
    }
   },
   "source": [
    "#### Plot histogram of exponential distribution with params `density=True`, `bins=100`\n"
   ]
  },
  {
   "cell_type": "code",
   "execution_count": 17,
   "metadata": {},
   "outputs": [
    {
     "data": {
      "image/png": "[encoded data removed]",
      "text/plain": [
       "<Figure size 432x288 with 1 Axes>"
      ]
     },
     "metadata": {},
     "output_type": "display_data"
    }
   ],
   "source": [
    "# plot histogram of uniform distribution with paramsdensity=True, bins=100\n",
    "plt.hist(exponential, density=True, bins=100)\n",
    "plt.ylabel('density')\n",
    "plt.xlabel('value')\n",
    "plt.show()"
   ]
  },
  {
   "cell_type": "code",
   "execution_count": null,
   "metadata": {},
   "outputs": [],
   "source": []
  },
  {
   "cell_type": "markdown",
   "metadata": {
    "ExecuteTime": {
     "end_time": "2020-02-05T17:54:45.187080Z",
     "start_time": "2020-02-05T17:54:45.171406Z"
    }
   },
   "source": [
    "#### Check the mean of exponential data"
   ]
  },
  {
   "cell_type": "code",
   "execution_count": 18,
   "metadata": {},
   "outputs": [
    {
     "data": {
      "text/plain": [
       "0.5009304192788916"
      ]
     },
     "execution_count": 18,
     "metadata": {},
     "output_type": "execute_result"
    }
   ],
   "source": [
    "mean_exponential = np.mean(exponential)\n",
    "mean_exponential"
   ]
  },
  {
   "cell_type": "code",
   "execution_count": null,
   "metadata": {},
   "outputs": [],
   "source": []
  }
 ],
 "metadata": {
  "kernelspec": {
   "display_name": "Python 3",
   "language": "python",
   "name": "python3"
  },
  "language_info": {
   "codemirror_mode": {
    "name": "ipython",
    "version": 3
   },
   "file_extension": ".py",
   "mimetype": "text/x-python",
   "name": "python",
   "nbconvert_exporter": "python",
   "pygments_lexer": "ipython3",
   "version": "3.9.7"
  },
  "toc": {
   "base_numbering": 1,
   "nav_menu": {},
   "number_sections": true,
   "sideBar": true,
   "skip_h1_title": false,
   "title_cell": "Table of Contents",
   "title_sidebar": "Contents",
   "toc_cell": false,
   "toc_position": {},
   "toc_section_display": true,
   "toc_window_display": false
  },
  "varInspector": {
   "cols": {
    "lenName": 16,
    "lenType": 16,
    "lenVar": 40
   },
   "kernels_config": {
    "python": {
     "delete_cmd_postfix": "",
     "delete_cmd_prefix": "del ",
     "library": "var_list.py",
     "varRefreshCmd": "print(var_dic_list())"
    },
    "r": {
     "delete_cmd_postfix": ") ",
     "delete_cmd_prefix": "rm(",
     "library": "var_list.r",
     "varRefreshCmd": "cat(var_dic_list()) "
    }
   },
   "types_to_exclude": [
    "module",
    "function",
    "builtin_function_or_method",
    "instance",
    "_Feature"
   ],
   "window_display": false
  }
 },
 "nbformat": 4,
 "nbformat_minor": 4
}
