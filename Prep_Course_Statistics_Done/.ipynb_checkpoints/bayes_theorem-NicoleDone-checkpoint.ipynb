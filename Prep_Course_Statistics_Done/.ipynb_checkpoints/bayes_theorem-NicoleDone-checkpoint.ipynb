{
 "cells": [
  {
   "cell_type": "markdown",
   "metadata": {
    "ExecuteTime": {
     "end_time": "2020-02-05T17:56:18.818219Z",
     "start_time": "2020-02-05T17:56:18.810698Z"
    }
   },
   "source": [
    "## Exercise 1\n",
    "In Orange County, 51% of the adults are males. (It doesn't take too much advanced\n",
    "mathematics to deduce that the other 49% are females.) One adult is randomly selected\n",
    "for a survey involving credit card usage.\n",
    "\n",
    "- **(a)** Find the probability that the selected person is a male.\n",
    "\n",
    "- **(b)** It is later learned that the selected survey subject was smoking a cigar. Also, 9.5% of males smoke cigars, whereas 1.7% of females smoke cigars (based on data from the Substance Abuse and Mental Health Services Administration). Use this additional information to find the probability that the cigar−smoking respondent is a male\n",
    "\n",
    "Use following notation:\n",
    "M = male <br>\n",
    "F = female <br>\n",
    "C = cigar smoker<br>\n",
    "NC = not a cigar smoker<br>\n"
   ]
  },
  {
   "cell_type": "code",
   "execution_count": null,
   "metadata": {},
   "outputs": [],
   "source": [
    "# Exercise (a)\n",
    "# male = 0.51\n",
    "# female = 0.49\n"
   ]
  },
  {
   "cell_type": "code",
   "execution_count": 1,
   "metadata": {},
   "outputs": [],
   "source": [
    "# import numpy \n",
    "import numpy as np"
   ]
  },
  {
   "cell_type": "code",
   "execution_count": 8,
   "metadata": {},
   "outputs": [],
   "source": [
    "# how many times we run the simulation\n",
    "n_runs = 100000\n",
    "\n",
    "# initialize variables\n",
    "MALE = 0\n",
    "FEMALE = 0\n"
   ]
  },
  {
   "cell_type": "code",
   "execution_count": 9,
   "metadata": {},
   "outputs": [],
   "source": [
    "# process simulation\n",
    "for _ in range(n_runs):\n",
    "    # Male probability\n",
    "    if np.random.random() < 0.51:\n",
    "        MALE += 1"
   ]
  },
  {
   "cell_type": "code",
   "execution_count": 10,
   "metadata": {},
   "outputs": [
    {
     "name": "stdout",
     "output_type": "stream",
     "text": [
      "Selected person is male: 51.046%\n"
     ]
    }
   ],
   "source": [
    "# create probabilities & print the result\n",
    "P_MALE = MALE / n_runs * 100\n",
    "print(f'Selected person is male: {P_MALE}%')"
   ]
  },
  {
   "cell_type": "code",
   "execution_count": 11,
   "metadata": {},
   "outputs": [
    {
     "data": {
      "text/plain": [
       "0.05678"
      ]
     },
     "execution_count": 11,
     "metadata": {},
     "output_type": "execute_result"
    }
   ],
   "source": [
    "# Exercise (b)\n",
    "# male = 0.51\n",
    "# female = 0.49\n",
    "# P(Cigar|Male) = 0.095\n",
    "# P(Cigar|Female) = 0.017\n",
    "# P (Cigar) = P(Male)*P(Cigar|Male) + P(Female)*P(Cigar|Female)\n",
    "#           = 0.51 x 0.095 + 0.49 x 0.017 = 0.05678\n",
    "\n",
    "0.51*0.095 + 0.49*0.017"
   ]
  },
  {
   "cell_type": "code",
   "execution_count": 17,
   "metadata": {},
   "outputs": [],
   "source": [
    "# Find P(Male|Cigar) = P(Male)*P(Cigar|Male) / P(Cigar)\n",
    "\n",
    "# how many times we run the simulation\n",
    "n_runs = 100000\n",
    "\n",
    "# initialize variables\n",
    "MALE = 0\n",
    "FEMALE = 0\n",
    "Cigar_Male = 0\n",
    "Cigar_Female = 0\n"
   ]
  },
  {
   "cell_type": "code",
   "execution_count": 18,
   "metadata": {},
   "outputs": [],
   "source": [
    "# process simulation\n",
    "for _ in range(n_runs):\n",
    "    # Male probability\n",
    "    if np.random.random() < 0.51:\n",
    "        MALE += 1\n",
    "        \n",
    "        # P(Cigar|Male)\n",
    "        if np.random.random() < 0.095:\n",
    "            Cigar_Male += 1\n",
    "        \n",
    "    # Female probability\n",
    "    else:\n",
    "        FEMALE += 1\n",
    "        \n",
    "        # P(Cigar|Female)\n",
    "        if np.random.random() < 0.017:\n",
    "            Cigar_Female += 1\n"
   ]
  },
  {
   "cell_type": "code",
   "execution_count": 21,
   "metadata": {},
   "outputs": [],
   "source": [
    "# create probabilities\n",
    "P_MALE = MALE / n_runs * 100\n",
    "P_Cigar_Male = Cigar_Male / n_runs * 100\n",
    "P_FEMALE = FEMALE / n_runs * 100\n",
    "P_Cigar_Female = Cigar_Female / n_runs * 100\n",
    "P_Cigar = ((P_MALE/100) * (P_Cigar_Male/100) + (P_FEMALE/100) * (P_Cigar_Female/100))*100\n",
    "\n",
    "P_Male_Cigar = (((P_MALE/100) * (P_Cigar_Male/100)) / (P_Cigar/100))*100\n"
   ]
  },
  {
   "cell_type": "code",
   "execution_count": 22,
   "metadata": {},
   "outputs": [
    {
     "name": "stdout",
     "output_type": "stream",
     "text": [
      "Selected person is male: 51.017%\n",
      "Male smoking cigar: 4.859999999999999%\n",
      "Selected person smoking cigar: 2.89039357%\n",
      "Probability of cigar smokers being male: 85.78161208682732%\n"
     ]
    }
   ],
   "source": [
    "# print the results\n",
    "print(f'Selected person is male: {P_MALE}%')\n",
    "print(f'Male smoking cigar: {P_Cigar_Male}%')\n",
    "print(f'Selected person smoking cigar: {P_Cigar}%')\n",
    "print(f'Probability of cigar smokers being male: {P_Male_Cigar}%')"
   ]
  },
  {
   "cell_type": "code",
   "execution_count": 23,
   "metadata": {},
   "outputs": [
    {
     "data": {
      "text/plain": [
       "0.8532934131736527"
      ]
     },
     "execution_count": 23,
     "metadata": {},
     "output_type": "execute_result"
    }
   ],
   "source": [
    "# manual calculation & comparison\n",
    "# P(Male|Cigar) = P(Male)*P(Cigar|Male) / P(Cigar)\n",
    "#               = (0.51 x 0.095) / 0.05678\n",
    "(0.51 * 0.095) / 0.05678"
   ]
  },
  {
   "cell_type": "code",
   "execution_count": null,
   "metadata": {},
   "outputs": [],
   "source": []
  },
  {
   "cell_type": "markdown",
   "metadata": {
    "ExecuteTime": {
     "end_time": "2020-02-05T17:56:20.532960Z",
     "start_time": "2020-02-05T17:56:20.525450Z"
    }
   },
   "source": [
    "# Exercise 2\n",
    "\n",
    "A diagnostic test has a probability 0.95 of giving a positive result when applied to a person suffering\n",
    "from a certain disease, and a probability 0.10 of giving a (false) positive when applied to a non-sufferer. It is\n",
    "estimated that 0.5 % of the population are sufferers. Suppose that the test is now administered to a person about\n",
    "whom we have no relevant information relating to the disease (apart from the fact that he/she comes from this\n",
    "population). \n",
    "\n",
    "Calculate the following probabilities:\n",
    "- **(a)** that the test result will be positive;\n",
    "- **(b)** that, given a positive result, the person is a sufferer;\n",
    "- **(c)** that, given a negative result, the person is a non-sufferer;\n",
    "- **(d)** that the person will be misclassified.\n",
    "\n",
    "Use following notation:\n",
    "\n",
    "T = test positive <br>\n",
    "NT = test negative<br>\n",
    "S = sufferer<br>\n",
    "NS = non-sufferer<br>\n",
    "M = misclassified<br>\n",
    "\n",
    "Solve it by two approaches:\n",
    "1. Arithmetically\n",
    "2. By simulation"
   ]
  },
  {
   "cell_type": "code",
   "execution_count": 25,
   "metadata": {},
   "outputs": [
    {
     "data": {
      "text/plain": [
       "0.10425000000000001"
      ]
     },
     "execution_count": 25,
     "metadata": {},
     "output_type": "execute_result"
    }
   ],
   "source": [
    "# (a) that the test result will be positive\n",
    "# P(with disease) = 0.005\n",
    "# P(without disease) = 1 - 0.005 = 0.995\n",
    "# P(positive|with diease) = 0.95\n",
    "# P(negative|with disease) = 0.05\n",
    "# P(positive|without disease) = 0.10\n",
    "# P(negative|without disease) = 0.90\n",
    "\n",
    "# P(positive) = P(positive|with disease)* P(with disease) \n",
    "#                + P(positive|without disease)* P(without disease)\n",
    "#             = 0.95 * 0.005 + 0.10 * 0.995\n",
    "#             = 0.10425\n",
    "\n",
    "0.95 * 0.005 + 0.10 * 0.995"
   ]
  },
  {
   "cell_type": "code",
   "execution_count": 27,
   "metadata": {},
   "outputs": [
    {
     "data": {
      "text/plain": [
       "0.045563549160671464"
      ]
     },
     "execution_count": 27,
     "metadata": {},
     "output_type": "execute_result"
    }
   ],
   "source": [
    "# (b) that, given a positive result, the person is a sufferer\n",
    "# P(with disease|positive) = P(with disease) * P(positive|with disease) / P(positive)\n",
    "#                          = 0.005 * 0.95 / 0.10425\n",
    "#                          = 0.04556\n",
    "\n",
    "0.005 * 0.95 / 0.10425"
   ]
  },
  {
   "cell_type": "code",
   "execution_count": 29,
   "metadata": {},
   "outputs": [
    {
     "data": {
      "text/plain": [
       "0.8957499999999999"
      ]
     },
     "execution_count": 29,
     "metadata": {},
     "output_type": "execute_result"
    }
   ],
   "source": [
    "# (c) that, given a negative result, the person is a non-sufferer\n",
    "# P(negative) = P(negative|with disease)* P(with disease) \n",
    "#                + P(negative|without disease)* P(without disease)\n",
    "#             = 0.05 * 0.005 + 0.90 * 0.995\n",
    "#             = 0.89575\n",
    "\n",
    "0.05 * 0.005 + 0.90 * 0.995"
   ]
  },
  {
   "cell_type": "code",
   "execution_count": 31,
   "metadata": {},
   "outputs": [
    {
     "data": {
      "text/plain": [
       "0.9997209042701646"
      ]
     },
     "execution_count": 31,
     "metadata": {},
     "output_type": "execute_result"
    }
   ],
   "source": [
    "# P(without disease|negative) = P(without disease) * P(negative|without disease) / P(negative)\n",
    "#                             = 0.995 * 0.90 / 0.89575\n",
    "#                             = 0.99972\n",
    "\n",
    "0.995 * 0.90 / 0.89575"
   ]
  },
  {
   "cell_type": "code",
   "execution_count": 35,
   "metadata": {},
   "outputs": [
    {
     "data": {
      "text/plain": [
       "0.09975"
      ]
     },
     "execution_count": 35,
     "metadata": {},
     "output_type": "execute_result"
    }
   ],
   "source": [
    "# (d) that the person will be misclassified\n",
    "# P(misclassified) = P(negative|with disease)* P(with disease) \n",
    "#                + P(positive|without disease)* P(without disease)\n",
    "#             = 0.05 * 0.005 + 0.10 * 0.995\n",
    "#             = 0.09975\n",
    "\n",
    "0.05 * 0.005 + 0.10 * 0.995"
   ]
  },
  {
   "cell_type": "code",
   "execution_count": null,
   "metadata": {},
   "outputs": [],
   "source": []
  },
  {
   "cell_type": "code",
   "execution_count": null,
   "metadata": {},
   "outputs": [],
   "source": []
  },
  {
   "cell_type": "code",
   "execution_count": null,
   "metadata": {},
   "outputs": [],
   "source": []
  },
  {
   "cell_type": "code",
   "execution_count": null,
   "metadata": {},
   "outputs": [],
   "source": []
  }
 ],
 "metadata": {
  "kernelspec": {
   "display_name": "Python 3",
   "language": "python",
   "name": "python3"
  },
  "language_info": {
   "codemirror_mode": {
    "name": "ipython",
    "version": 3
   },
   "file_extension": ".py",
   "mimetype": "text/x-python",
   "name": "python",
   "nbconvert_exporter": "python",
   "pygments_lexer": "ipython3",
   "version": "3.9.7"
  },
  "toc": {
   "base_numbering": 1,
   "nav_menu": {},
   "number_sections": true,
   "sideBar": true,
   "skip_h1_title": false,
   "title_cell": "Table of Contents",
   "title_sidebar": "Contents",
   "toc_cell": false,
   "toc_position": {},
   "toc_section_display": true,
   "toc_window_display": false
  },
  "varInspector": {
   "cols": {
    "lenName": 16,
    "lenType": 16,
    "lenVar": 40
   },
   "kernels_config": {
    "python": {
     "delete_cmd_postfix": "",
     "delete_cmd_prefix": "del ",
     "library": "var_list.py",
     "varRefreshCmd": "print(var_dic_list())"
    },
    "r": {
     "delete_cmd_postfix": ") ",
     "delete_cmd_prefix": "rm(",
     "library": "var_list.r",
     "varRefreshCmd": "cat(var_dic_list()) "
    }
   },
   "types_to_exclude": [
    "module",
    "function",
    "builtin_function_or_method",
    "instance",
    "_Feature"
   ],
   "window_display": false
  }
 },
 "nbformat": 4,
 "nbformat_minor": 4
}
