{
 "cells": [
  {
   "cell_type": "code",
   "execution_count": 1,
   "id": "cc06314e-51c7-4d28-8341-5a848235dcff",
   "metadata": {},
   "outputs": [
    {
     "name": "stdout",
     "output_type": "stream",
     "text": [
      "11\n",
      "5\n",
      "126\n"
     ]
    }
   ],
   "source": [
    "def sumLargestNumbers(lst):\n",
    "    # Put your solution here\n",
    "    max_a = max(lst)\n",
    "    lst.remove(max_a)\n",
    "    max_b = max(lst)\n",
    "    return max_a + max_b\n",
    "\n",
    "\n",
    "print(sumLargestNumbers([1, 10]))\n",
    "print(sumLargestNumbers([1, 2, 3]))\n",
    "print(sumLargestNumbers([10, 4, 34, 6, 92, 2]))"
   ]
  },
  {
   "cell_type": "code",
   "execution_count": 2,
   "id": "921024c6-d362-410b-90db-6eefb301d500",
   "metadata": {},
   "outputs": [
    {
     "name": "stdout",
     "output_type": "stream",
     "text": [
      "6\n",
      "9\n",
      "144\n",
      "0\n"
     ]
    }
   ],
   "source": [
    "def conditionalSum(values, condition):\n",
    "    # Your code here\n",
    "    total = 0\n",
    "    if condition == \"even\":\n",
    "        for i in values:\n",
    "            if i % 2 == 0:\n",
    "                total += i\n",
    "    if condition == \"odd\":\n",
    "        for i in values:\n",
    "            if i % 2 == 1:\n",
    "                total += i\n",
    "    return total\n",
    "\n",
    "print(conditionalSum([1, 2, 3, 4, 5], \"even\"))\n",
    "print(conditionalSum([1, 2, 3, 4, 5], \"odd\"))\n",
    "print(conditionalSum([13, 88, 12, 44, 99], \"even\"))\n",
    "print(conditionalSum([], \"odd\"))"
   ]
  },
  {
   "cell_type": "code",
   "execution_count": 9,
   "id": "cf43836c-0a3a-4d41-b083-4c42f9077bb7",
   "metadata": {},
   "outputs": [
    {
     "name": "stdout",
     "output_type": "stream",
     "text": [
      "3\n",
      "5\n",
      "5\n"
     ]
    }
   ],
   "source": [
    "def numberOfVowels(data):\n",
    "    # Put your solution here\n",
    "    vowels = ['a', 'e', 'i', 'o', 'u']\n",
    "    vowel_numbers = 0\n",
    "    for i in range(len(data)):\n",
    "        if data[i] in vowels:\n",
    "            vowel_numbers += 1\n",
    "    \n",
    "    return vowel_numbers\n",
    "\n",
    "            \n",
    "print(numberOfVowels(\"orange\"))\n",
    "print(numberOfVowels(\"lighthouse labs\"))\n",
    "print(numberOfVowels(\"aeiou\"))"
   ]
  },
  {
   "cell_type": "code",
   "execution_count": 5,
   "id": "20b34bf3-f2df-4c30-9a63-b3d6d66e1780",
   "metadata": {},
   "outputs": [
    {
     "data": {
      "text/plain": [
       "6"
      ]
     },
     "execution_count": 5,
     "metadata": {},
     "output_type": "execute_result"
    }
   ],
   "source": [
    "len('chorus')"
   ]
  },
  {
   "cell_type": "code",
   "execution_count": 7,
   "id": "a86e9ff6-894d-4ecc-9184-3a240333a4b9",
   "metadata": {},
   "outputs": [
    {
     "data": {
      "text/plain": [
       "True"
      ]
     },
     "execution_count": 7,
     "metadata": {},
     "output_type": "execute_result"
    }
   ],
   "source": [
    "vowels = ['a', 'e', 'i', 'o', 'u']\n",
    "a = 'chorus'\n",
    "a[2] in vowels"
   ]
  },
  {
   "cell_type": "code",
   "execution_count": 45,
   "id": "f6715874-fdd1-40fa-b2eb-dc3ddb9887e8",
   "metadata": {},
   "outputs": [
    {
     "name": "stdout",
     "output_type": "stream",
     "text": [
      "{'name': 'Jeremiah', 'course': 'Data'}\n",
      "{'name': 'Domascus', 'course': 'Web'}\n"
     ]
    }
   ],
   "source": [
    "def instructorWithLongestName(instructors):\n",
    "    # Put your solution here\n",
    "    index = 0\n",
    "    lst_name = []\n",
    "    for data in instructors:\n",
    "        lst_name.append(list(data.values())[0])\n",
    "        index += 1\n",
    "    \n",
    "    index = 0\n",
    "    len_name = []\n",
    "    for num in lst_name:\n",
    "        len_name.append(len(num))\n",
    "        index += 1\n",
    "        \n",
    "    max_value = max(len_name)\n",
    "    max_index = len_name.index(max_value)\n",
    "     \n",
    "    return dict(instructors[max_index].items())\n",
    "     \n",
    "\n",
    "print(instructorWithLongestName([\n",
    "  {\"name\": \"Samuel\", \"course\": \"iOS\"},\n",
    "  {\"name\": \"Jeremiah\", \"course\": \"Data\"},\n",
    "  {\"name\": \"Ophilia\", \"course\": \"Web\"},\n",
    "  {\"name\": \"Donald\", \"course\": \"Web\"}\n",
    "]))\n",
    "print(instructorWithLongestName([\n",
    "  {\"name\": \"Matthew\", \"course\": \"Data\"},\n",
    "  {\"name\": \"David\", \"course\": \"iOS\"},\n",
    "  {\"name\": \"Domascus\", \"course\": \"Web\"}\n",
    "]))"
   ]
  },
  {
   "cell_type": "code",
   "execution_count": 35,
   "id": "5207b959-0624-48b8-9a45-5f9dd45dedd5",
   "metadata": {},
   "outputs": [
    {
     "data": {
      "text/plain": [
       "'Ophilia'"
      ]
     },
     "execution_count": 35,
     "metadata": {},
     "output_type": "execute_result"
    }
   ],
   "source": [
    "d = [\n",
    "  {\"name\": \"Samuel\", \"course\": \"iOS\"},\n",
    "  {\"name\": \"Jeremiah\", \"course\": \"Data\"},\n",
    "  {\"name\": \"Ophilia\", \"course\": \"Web\"},\n",
    "  {\"name\": \"Donald\", \"course\": \"Web\"}\n",
    "]\n",
    "\n",
    "len(d)\n",
    "list(d[2].values())[0]"
   ]
  },
  {
   "cell_type": "code",
   "execution_count": 37,
   "id": "c154c4a8-a53b-4170-9cda-862936da08bd",
   "metadata": {},
   "outputs": [
    {
     "data": {
      "text/plain": [
       "{'name': 'Ophilia', 'course': 'Web'}"
      ]
     },
     "execution_count": 37,
     "metadata": {},
     "output_type": "execute_result"
    }
   ],
   "source": [
    "dict(d[2].items())"
   ]
  },
  {
   "cell_type": "code",
   "execution_count": 44,
   "id": "ad49d30e-ce10-4d10-8f0f-2ba30a0ad272",
   "metadata": {},
   "outputs": [
    {
     "name": "stdout",
     "output_type": "stream",
     "text": [
      "['Samuel', 'Jeremiah', 'Ophilia', 'Donald']\n"
     ]
    }
   ],
   "source": [
    "index = 0\n",
    "lst_name = []\n",
    "for data in d:\n",
    "    lst_name.append(list(data.values())[0])\n",
    "    index += 1\n",
    "\n",
    "print(lst_name)"
   ]
  },
  {
   "cell_type": "code",
   "execution_count": 51,
   "id": "5ccabf3f-d303-476b-8bce-caa905862ea7",
   "metadata": {},
   "outputs": [
    {
     "name": "stdout",
     "output_type": "stream",
     "text": [
      "Lighthouse%20Labs\n",
      "Lighthouse%20Labs\n",
      "blue%20is%20greener%20than%20purple%20for%20sure\n"
     ]
    }
   ],
   "source": [
    "def urlEncode(text):\n",
    "    # Put your solution here\n",
    "\n",
    "    if text[0] == ' ':\n",
    "        text = text[1:]\n",
    "    elif text[-1] == ' ':\n",
    "        text = text[:-1]\n",
    "    \n",
    "    text_edited = text.replace(\"  \", \"\")\n",
    "    text_edited = text_edited.replace(\" \", \"%20\")\n",
    "    \n",
    "    return text_edited\n",
    "\n",
    "\n",
    "print(urlEncode(\"Lighthouse Labs\"))\n",
    "print(urlEncode(\" Lighthouse Labs  \"))\n",
    "print(urlEncode(\"blue is greener than purple for sure\"))"
   ]
  },
  {
   "cell_type": "code",
   "execution_count": 49,
   "id": "7d43ff04-6b25-4fc7-a1e6-63072f7cff07",
   "metadata": {},
   "outputs": [
    {
     "name": "stdout",
     "output_type": "stream",
     "text": [
      "%20me%20Nicole%20\n"
     ]
    }
   ],
   "source": [
    "words = \" me Nicole \"\n",
    "words_t = words.replace(\" \", \"%20\")\n",
    "print(words_t)"
   ]
  },
  {
   "cell_type": "code",
   "execution_count": 142,
   "id": "84ff1941-a11e-46bf-8afc-82c1186ceb07",
   "metadata": {},
   "outputs": [
    {
     "name": "stdout",
     "output_type": "stream",
     "text": [
      "[4, 0]\n",
      "None\n",
      "False\n",
      "None\n",
      "[3, 1]\n",
      "None\n"
     ]
    }
   ],
   "source": [
    "def whereCanIPark(spots, vehicle):\n",
    "    # Code here!\n",
    "    index_parking = []\n",
    "    index_col = 0\n",
    "    index_row = 0\n",
    "    for index_row in range(len(spots)):\n",
    "        if index_parking:\n",
    "            break\n",
    "        for i in spots[index_row]:\n",
    "            if vehicle == 'regular':\n",
    "                if i == 'R':\n",
    "                    index_parking.append(index_col)\n",
    "                    index_parking.append(index_row)\n",
    "                    print(index_parking)\n",
    "                    break\n",
    "                index_col += 1\n",
    "                if index_col == len(spots[0]):\n",
    "                    index_col = 0\n",
    "\n",
    "            if vehicle == 'small':\n",
    "                if i == 'R' or i == 'S':\n",
    "                    index_parking.append(index_col)\n",
    "                    index_parking.append(index_row)\n",
    "                    print(index_parking)\n",
    "                    break\n",
    "                index_col += 1\n",
    "                if index_col == len(spots[0]):\n",
    "                    index_col = 0                    \n",
    "                    \n",
    "            if vehicle == 'motorcycle':\n",
    "                if i == 'R' or i == 'S' or i == 'M':\n",
    "                    index_parking.append(index_col)\n",
    "                    index_parking.append(index_row)\n",
    "                    print(index_parking)\n",
    "                    break\n",
    "                index_col += 1\n",
    "                if index_col == len(spots[0]):\n",
    "                    index_col = 0   \n",
    "                    \n",
    "                    \n",
    "    if not index_parking:\n",
    "        print(False)\n",
    "        \n",
    "        \n",
    "\n",
    "print(whereCanIPark(\n",
    "  [\n",
    "    # COLUMNS ARE X\n",
    "    # 0    1    2    3    4    5\n",
    "    ['s', 's', 's', 'S', 'R', 'M'], # 0 ROWS ARE Y\n",
    "    ['s', 'M', 's', 'S', 'r', 'M'], # 1\n",
    "    ['s', 'M', 's', 'S', 'r', 'm'], # 2\n",
    "    ['S', 'r', 's', 'm', 'r', 'M'], # 3\n",
    "    ['S', 'r', 's', 'm', 'r', 'M'], # 4\n",
    "    ['S', 'r', 'S', 'M', 'M', 'S']  # 5\n",
    "  ],\n",
    "  'regular'\n",
    "))\n",
    "\n",
    "print(whereCanIPark(\n",
    "  [\n",
    "    ['M', 'M', 'M', 'M'],\n",
    "    ['M', 's', 'M', 'M'],\n",
    "    ['M', 'M', 'M', 'M'],\n",
    "    ['M', 'M', 'r', 'M']\n",
    "  ],\n",
    "  'small'\n",
    "))\n",
    "\n",
    "print(whereCanIPark(\n",
    "  [\n",
    "    ['s', 's', 's', 's', 's', 's'],\n",
    "    ['s', 'm', 's', 'S', 'r', 's'],\n",
    "    ['s', 'm', 's', 'S', 'r', 's'],\n",
    "    ['S', 'r', 's', 'm', 'r', 's'],\n",
    "    ['S', 'r', 's', 'm', 'R', 's'],\n",
    "    ['S', 'r', 'S', 'M', 'm', 'S']\n",
    "  ],\n",
    "  'motorcycle'\n",
    "))"
   ]
  },
  {
   "cell_type": "code",
   "execution_count": 140,
   "id": "86b0eb87-e90d-4201-be7d-79b52007f6b6",
   "metadata": {},
   "outputs": [
    {
     "name": "stdout",
     "output_type": "stream",
     "text": [
      "[4, 0]\n"
     ]
    }
   ],
   "source": [
    "# regular\n",
    "nh = [\n",
    "    # COLUMNS ARE X\n",
    "    # 0    1    2    3    4    5\n",
    "    ['s', 's', 's', 'S', 'R', 'M'], # 0 ROWS ARE Y\n",
    "    ['s', 'M', 's', 'S', 'r', 'M'], # 1\n",
    "    ['s', 'M', 's', 'S', 'r', 'm'], # 2\n",
    "    ['S', 'r', 's', 'm', 'r', 'M'], # 3\n",
    "    ['S', 'r', 's', 'm', 'r', 'M'], # 4\n",
    "    ['S', 'r', 'S', 'M', 'M', 'S']  # 5\n",
    "  ]\n",
    "\n",
    "#nh[0][4]\n",
    "index_parking = []\n",
    "index_col = 0\n",
    "index_row = 0\n",
    "for index_row in range(len(nh)):\n",
    "    if index_parking:\n",
    "        break\n",
    "    for i in nh[index_col]:\n",
    "        if i == 'R':\n",
    "            index_parking.append(index_col)\n",
    "            index_parking.append(index_row)\n",
    "            print(index_parking)\n",
    "            break\n",
    "        index_col += 1\n",
    "        if index_col == len(nh[0]):\n",
    "            index_col = 0\n",
    "\n",
    "if not index_parking:\n",
    "    print(False)\n",
    "    \n"
   ]
  },
  {
   "cell_type": "code",
   "execution_count": 139,
   "id": "72aadfdc-cacd-4766-822e-4ad0779ee798",
   "metadata": {},
   "outputs": [
    {
     "name": "stdout",
     "output_type": "stream",
     "text": [
      "False\n"
     ]
    }
   ],
   "source": [
    "# small\n",
    "nh1 = [\n",
    "    ['M', 'M', 'M', 'M'],\n",
    "    ['M', 's', 'M', 'M'],\n",
    "    ['M', 'M', 'M', 'M'],\n",
    "    ['M', 'M', 'r', 'M']\n",
    "  ]\n",
    "\n",
    "index_parking = []\n",
    "index_col = 0\n",
    "index_row = 0\n",
    "\n",
    "for index_row in range(len(nh1)):\n",
    "    if index_parking:\n",
    "        break\n",
    "    for i in nh1[index_row]:\n",
    "        if i == 'R' or i == 'S':\n",
    "            index_parking.append(index_col)\n",
    "            index_parking.append(index_row)\n",
    "            print(index_parking)\n",
    "            break\n",
    "        index_col += 1\n",
    "        if index_col == len(nh1[0]):\n",
    "            index_col = 0\n",
    "\n",
    "\n",
    "if not index_parking:\n",
    "    print(False)\n",
    "    \n"
   ]
  },
  {
   "cell_type": "code",
   "execution_count": 138,
   "id": "e935c325-f3d3-481d-98a1-238991267b67",
   "metadata": {},
   "outputs": [
    {
     "name": "stdout",
     "output_type": "stream",
     "text": [
      "[3, 1]\n"
     ]
    }
   ],
   "source": [
    "# motorcycle\n",
    "nh2 = [\n",
    "    ['s', 's', 's', 's', 's', 's'],\n",
    "    ['s', 'm', 's', 'S', 'r', 's'],\n",
    "    ['s', 'm', 's', 'S', 'r', 's'],\n",
    "    ['S', 'r', 's', 'm', 'r', 's'],\n",
    "    ['S', 'r', 's', 'm', 'R', 's'],\n",
    "    ['S', 'r', 'S', 'M', 'm', 'S']\n",
    "  ]\n",
    "\n",
    "index_parking = []\n",
    "index_col = 0\n",
    "index_row = 0\n",
    "\n",
    "for index_row in range(len(nh2)):\n",
    "    if index_parking:\n",
    "        break\n",
    "\n",
    "    for i in nh2[index_row]:\n",
    "        if i == 'R' or i == 'S' or i == 'M':\n",
    "            index_parking.append(index_col)\n",
    "            index_parking.append(index_row)\n",
    "            print(index_parking)\n",
    "            break\n",
    "        index_col += 1    \n",
    "        if index_col == len(nh2[0]):\n",
    "            index_col = 0\n",
    "              \n",
    "\n",
    "if not index_parking:\n",
    "    print(False)"
   ]
  },
  {
   "cell_type": "code",
   "execution_count": 134,
   "id": "82e2a100-4fbb-4e43-a45e-9f20ef2e5df7",
   "metadata": {},
   "outputs": [
    {
     "data": {
      "text/plain": [
       "'S'"
      ]
     },
     "execution_count": 134,
     "metadata": {},
     "output_type": "execute_result"
    }
   ],
   "source": [
    "# motorcycle\n",
    "nh2 = [\n",
    "    ['s', 's', 's', 's', 's', 's'],\n",
    "    ['s', 'm', 's', 'S', 'r', 's'],\n",
    "    ['s', 'm', 's', 'S', 'r', 's'],\n",
    "    ['S', 'r', 's', 'm', 'r', 's'],\n",
    "    ['S', 'r', 's', 'm', 'R', 's'],\n",
    "    ['S', 'r', 'S', 'M', 'm', 'S']\n",
    "  ]\n",
    "\n",
    "nh2[1][3]\n",
    "\n"
   ]
  },
  {
   "cell_type": "code",
   "execution_count": 148,
   "id": "af88a54a-e543-41c0-a905-051574322ab1",
   "metadata": {},
   "outputs": [
    {
     "name": "stdout",
     "output_type": "stream",
     "text": [
      "Polluted\n",
      "None\n",
      "Polluted\n",
      "None\n",
      "Clean\n",
      "None\n"
     ]
    }
   ],
   "source": [
    "def checkAir(samples, threshold):\n",
    "    # Code here!\n",
    "    percent = samples.count('dirty') / len(samples)\n",
    "    \n",
    "    if percent < threshold:\n",
    "        print(\"Clean\")\n",
    "    else:\n",
    "        print(\"Polluted\")\n",
    "    \n",
    "\n",
    "\n",
    "print(checkAir(\n",
    "  ['clean', 'clean', 'dirty', 'clean', 'dirty', 'clean', 'clean', 'dirty', 'clean', 'dirty'],\n",
    "  0.3\n",
    "))\n",
    "\n",
    "print(checkAir(\n",
    "  ['dirty', 'dirty', 'dirty', 'dirty', 'clean'],\n",
    "  0.25\n",
    "))\n",
    "\n",
    "print(checkAir(\n",
    "  ['clean', 'dirty', 'clean', 'dirty', 'clean', 'dirty', 'clean'],\n",
    "  0.9\n",
    "))\n"
   ]
  },
  {
   "cell_type": "code",
   "execution_count": 146,
   "id": "7d15fdc0-f252-403a-9689-e1c9ad5a0cfb",
   "metadata": {},
   "outputs": [
    {
     "name": "stdout",
     "output_type": "stream",
     "text": [
      "0.4\n"
     ]
    }
   ],
   "source": [
    "air1 = ['clean', 'clean', 'dirty', 'clean', 'dirty', 'clean', 'clean', 'dirty', 'clean', 'dirty']\n",
    "len(air1)\n",
    "air1.count('dirty')\n",
    "percent = air1.count('dirty') / len(air1)\n",
    "print(percent)"
   ]
  },
  {
   "cell_type": "code",
   "execution_count": 68,
   "id": "dc06c0bc-ca82-42f0-99e4-019f68f12bfb",
   "metadata": {},
   "outputs": [],
   "source": [
    "def repeatNumbers(data):\n",
    "    # Put your solution here\n",
    "    #print(len(data))\n",
    "    n = 0\n",
    "    lst = []\n",
    "    for i in data:\n",
    "        #print(\"i: \", i)\n",
    "        #print(\"n: \", n)\n",
    "        if n < len(data)-1:\n",
    "            for h in range(i[1]):\n",
    "                lst.append(i[0])\n",
    "            \n",
    "            lst.append(\", \")\n",
    "            #print(\"if statement, lst: \", lst)\n",
    "        else:\n",
    "            for m in range(i[1]):\n",
    "                lst.append(i[0])\n",
    "             #print(\"else statement, lst: \", lst)\n",
    "         \n",
    "        n += 1\n",
    "        \n",
    "    my_lst = ''.join(map(str, lst))\n",
    "    \n",
    "    return my_lst"
   ]
  },
  {
   "cell_type": "code",
   "execution_count": 69,
   "id": "a3706402-404f-4a98-876e-7cf79d00cd68",
   "metadata": {},
   "outputs": [
    {
     "name": "stdout",
     "output_type": "stream",
     "text": [
      "1111111111\n",
      "11, 222\n",
      "10101010, 343434343434, 9292\n"
     ]
    }
   ],
   "source": [
    "print(repeatNumbers([[1, 10]]))\n",
    "print(repeatNumbers([[1, 2], [2, 3]]))\n",
    "print(repeatNumbers([[10, 4], [34, 6], [92, 2]]))"
   ]
  },
  {
   "cell_type": "code",
   "execution_count": 23,
   "id": "7499f090-6d35-46d0-8b97-9a3e70d9f8ee",
   "metadata": {},
   "outputs": [
    {
     "name": "stdout",
     "output_type": "stream",
     "text": [
      "12345678910\n"
     ]
    }
   ],
   "source": [
    "# https://stackoverflow.com/questions/12453580/how-to-concatenate-items-in-a-list-to-a-single-string\n",
    "my_lst = [1, 2, 3, 4, 5, 6, 7, 8, 9, 10]\n",
    "my_lst_str = ''.join(map(str, my_lst))\n",
    "print(my_lst_str)"
   ]
  },
  {
   "cell_type": "code",
   "execution_count": 78,
   "id": "e1d7148b-4ad2-4eb1-b5d7-021c75079d46",
   "metadata": {},
   "outputs": [],
   "source": [
    "def camelCase(input):\n",
    "    # Your code here\n",
    "    arr_string = input.split(' ', maxsplit=15)\n",
    "    \n",
    "    arr_string_rev = []\n",
    "    for n in range(len(arr_string)):\n",
    "        if n == 0:\n",
    "            arr_string_rev.append(arr_string[n])\n",
    "        else:\n",
    "            arr_string_rev.append(arr_string[n].capitalize())\n",
    "    \n",
    "    return ''.join(map(str, arr_string_rev))"
   ]
  },
  {
   "cell_type": "code",
   "execution_count": 79,
   "id": "337c67c6-95d1-4ed3-8ab2-85f115e71a09",
   "metadata": {},
   "outputs": [
    {
     "name": "stdout",
     "output_type": "stream",
     "text": [
      "thisIsAString\n",
      "loopyLighthouse\n",
      "supercalifragalisticexpialidocious\n"
     ]
    }
   ],
   "source": [
    "print(camelCase(\"this is a string\"))\n",
    "print(camelCase(\"loopy lighthouse\"))\n",
    "print(camelCase(\"supercalifragalisticexpialidocious\"))"
   ]
  },
  {
   "cell_type": "code",
   "execution_count": 71,
   "id": "20eaa2e4-8ee8-4414-9949-cf4b132f9d0c",
   "metadata": {},
   "outputs": [
    {
     "data": {
      "text/plain": [
       "4"
      ]
     },
     "execution_count": 71,
     "metadata": {},
     "output_type": "execute_result"
    }
   ],
   "source": [
    "\"this is a string\".find(' ')"
   ]
  },
  {
   "cell_type": "code",
   "execution_count": 72,
   "id": "fd1db42b-eba3-482c-ad6a-555b5e9588c7",
   "metadata": {},
   "outputs": [
    {
     "data": {
      "text/plain": [
       "'This is a string'"
      ]
     },
     "execution_count": 72,
     "metadata": {},
     "output_type": "execute_result"
    }
   ],
   "source": [
    "string = \"this is a string\"\n",
    "string.capitalize()"
   ]
  },
  {
   "cell_type": "code",
   "execution_count": 74,
   "id": "1711ad1e-82b1-44bb-bc4b-5002bd5e52cb",
   "metadata": {},
   "outputs": [
    {
     "data": {
      "text/plain": [
       "['this', 'is', 'a', 'string']"
      ]
     },
     "execution_count": 74,
     "metadata": {},
     "output_type": "execute_result"
    }
   ],
   "source": [
    "lst = 'this is a string'.split(' ', maxsplit=10)\n",
    "lst"
   ]
  },
  {
   "cell_type": "code",
   "execution_count": 93,
   "id": "80001615-a13e-40bc-b32a-1379378ec164",
   "metadata": {},
   "outputs": [],
   "source": [
    "import numpy as np"
   ]
  },
  {
   "cell_type": "code",
   "execution_count": 120,
   "id": "db15f5be-af0e-4247-8ca6-b54c50369453",
   "metadata": {},
   "outputs": [],
   "source": [
    "def multiplicationTable(maxValue):\n",
    "    # Your code here\n",
    "    number = 1\n",
    "    arr_lst = []\n",
    "    for row in range(1, maxValue + 1):\n",
    "        if row == 1:\n",
    "            for column in range(1, maxValue + 1):\n",
    "                arr_lst.append(column)\n",
    "            \n",
    "            arr_lst = np.asarray(arr_lst)            \n",
    "            NH = arr_lst\n",
    "            number += 1\n",
    "\n",
    "        else:\n",
    "            arr_new = []\n",
    "            for column in range(1, maxValue + 1):               \n",
    "                arr_new.append(column*number)\n",
    "\n",
    "            arr_new = np.asarray(arr_new)\n",
    "            NH_new = arr_new\n",
    "            NH = np.vstack([NH, NH_new])\n",
    "            number += 1\n",
    "    \n",
    "    return NH\n",
    "\n",
    "# https://stackoverflow.com/questions/3881453/numpy-add-row-to-array"
   ]
  },
  {
   "cell_type": "code",
   "execution_count": 121,
   "id": "79ae0ac0-a5d4-42b8-8544-c965bd7fee3c",
   "metadata": {},
   "outputs": [
    {
     "name": "stdout",
     "output_type": "stream",
     "text": [
      "[1]\n",
      "[[ 1  2  3  4  5]\n",
      " [ 2  4  6  8 10]\n",
      " [ 3  6  9 12 15]\n",
      " [ 4  8 12 16 20]\n",
      " [ 5 10 15 20 25]]\n",
      "[[  1   2   3   4   5   6   7   8   9  10]\n",
      " [  2   4   6   8  10  12  14  16  18  20]\n",
      " [  3   6   9  12  15  18  21  24  27  30]\n",
      " [  4   8  12  16  20  24  28  32  36  40]\n",
      " [  5  10  15  20  25  30  35  40  45  50]\n",
      " [  6  12  18  24  30  36  42  48  54  60]\n",
      " [  7  14  21  28  35  42  49  56  63  70]\n",
      " [  8  16  24  32  40  48  56  64  72  80]\n",
      " [  9  18  27  36  45  54  63  72  81  90]\n",
      " [ 10  20  30  40  50  60  70  80  90 100]]\n"
     ]
    }
   ],
   "source": [
    "print(multiplicationTable(1))\n",
    "print(multiplicationTable(5))\n",
    "print(multiplicationTable(10))"
   ]
  },
  {
   "cell_type": "code",
   "execution_count": null,
   "id": "c091cbd3-b1f4-4f39-ae8f-a6eb0f318027",
   "metadata": {},
   "outputs": [],
   "source": []
  },
  {
   "cell_type": "code",
   "execution_count": null,
   "id": "e5453a7d-dc36-4ea7-9f66-c41542431b75",
   "metadata": {},
   "outputs": [],
   "source": []
  },
  {
   "cell_type": "code",
   "execution_count": null,
   "id": "719cff7d-c783-4595-8685-29d9cb1ad26c",
   "metadata": {},
   "outputs": [],
   "source": []
  },
  {
   "cell_type": "code",
   "execution_count": null,
   "id": "0f9c20a4-102d-4d6c-b08f-dc798b9c07fd",
   "metadata": {},
   "outputs": [],
   "source": []
  },
  {
   "cell_type": "code",
   "execution_count": null,
   "id": "f5c75df3-94f4-4592-bbf7-0b1661484345",
   "metadata": {},
   "outputs": [],
   "source": []
  },
  {
   "cell_type": "code",
   "execution_count": null,
   "id": "eb8e3ea3-5a70-47d5-b680-493bd30a0bff",
   "metadata": {},
   "outputs": [],
   "source": []
  },
  {
   "cell_type": "code",
   "execution_count": null,
   "id": "44329f59-023d-4225-9f35-82338ad1cf7a",
   "metadata": {},
   "outputs": [],
   "source": []
  },
  {
   "cell_type": "code",
   "execution_count": null,
   "id": "69aa8b75-fb61-4eaf-b83b-7dd6d03e2998",
   "metadata": {},
   "outputs": [],
   "source": []
  }
 ],
 "metadata": {
  "kernelspec": {
   "display_name": "Python 3",
   "language": "python",
   "name": "python3"
  },
  "language_info": {
   "codemirror_mode": {
    "name": "ipython",
    "version": 3
   },
   "file_extension": ".py",
   "mimetype": "text/x-python",
   "name": "python",
   "nbconvert_exporter": "python",
   "pygments_lexer": "ipython3",
   "version": "3.9.7"
  }
 },
 "nbformat": 4,
 "nbformat_minor": 5
}
